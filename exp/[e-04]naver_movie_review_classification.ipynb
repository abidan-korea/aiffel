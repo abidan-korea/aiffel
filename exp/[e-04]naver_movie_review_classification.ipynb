{
 "cells": [
  {
   "cell_type": "markdown",
   "id": "permanent-visiting",
   "metadata": {},
   "source": [
    "# 네이버 영화 리뷰 긍/부정 분류\n",
    "\n",
    "목표 : 네이버 영화 리뷰 글을 딥러닝 모델에 적용하여 긍/부정 분류를 높은 성능으로 진행해보자"
   ]
  },
  {
   "cell_type": "code",
   "execution_count": 23,
   "id": "adjacent-alpha",
   "metadata": {},
   "outputs": [],
   "source": [
    "# 각 패키지 설치방법 정리\n",
    "\n",
    "# ubuntu openjdk 설치\n",
    "# !sudo apt-get update\n",
    "# !sudo apt-get install openjdk-8-jdk -y\n",
    "# java -version\n",
    "#openjdk version \"1.8.0_275\"\n",
    "#OpenJDK Runtime Environment (build 1.8.0_275-8u275-b01-0ubuntu1~18.04-b01)\n",
    "#OpenJDK 64-Bit Server VM (build 25.275-b01, mixed mode)\n",
    "\n",
    "#konlpy 설치\n",
    "# !pip install konlpy\n",
    "\n",
    "# mecab-ko 설치\n",
    "#https://somjang.tistory.com/entry/PythonUbuntu%EC%97%90-mecab-ko-dic-%EB%9D%BC%EC%9D%B4%EB%B8%8C%EB%9F%AC%EB%A6%AC-%EC%84%A4%EC%B9%98%ED%95%98%EA%B8%B0\n",
    "#cd ~/다운로드\n",
    "#wget https://bitbucket.org/eunjeon/mecab-ko/downloads/mecab-0.996-ko-0.9.2.tar.gz\n",
    "#압축 풀기 tar xvfz mecab-0.996-ko-0.9.2.tar.gz\n",
    "# cd /home/aiffel/aiffel/exp4_movie_rating/dataset/mecab-0.996-ko-0.9.2\n",
    "# ./configure\n",
    "# make\n",
    "# make check\n",
    "# sudo make install\n",
    "# sudo ldconfig\n",
    "# mecab --version\n",
    "#mecab of 0.996/ko-0.9.2\n",
    "\n",
    "# mecab-ko dic 설치\n",
    "#cd ~/Downloads\n",
    "#wget https://bitbucket.org/eunjeon/mecab-ko-dic/downloads/mecab-ko-dic-2.1.1-20180720.tar.gz\n",
    "#압축 풀고\n",
    "#cd mecab-ko-dic-2.1.1-20180720\n",
    "# ./configure\n",
    "# make\n",
    "# sudo make install\n",
    "# 설치 여부 확인 mecab -d /usr/local/lib/mecab/dic/mecab-ko-dic 실행 후 문장 입력\n",
    "\n",
    "# sudo apt install curl git\n",
    "# bash <(curl -s https://raw.githubusercontent.com/konlpy/konlpy/master/scripts/mecab.sh)\n",
    "\n",
    "# 위대로 다 설치하면 2가지 에러가 남\n",
    "# 1) name 'tagger' is not defined\n",
    "# 2) typeerror: startjvm() got an unexpected keyword argument 'convertstrings'\n",
    "\n",
    "# 1)은 https://sosomemo.tistory.com/30 참고하여\n",
    "# cd /tmp/mecab-python-0.996\n",
    "# python3 setup.py build\n",
    "# python3 setup.py install\n",
    "\n",
    "# 2)은TypeError: startJVM() got an unexpected keyword argument 'convertStrings'\n",
    "# 참고 블로그 - https://i-am-eden.tistory.com/9\n",
    "#cd /home/aiffel/anaconda3/envs/aiffel/lib/python3.7/site-packages/konlpy\n",
    "# sudo nano(vi나 gedit 이나 편하신 편집기 사용) jvm.py \n",
    "# 맨 마지막 줄 convertStrings=True 부분만 주석처리하고, )는 살려주고 저장.\n"
   ]
  },
  {
   "cell_type": "markdown",
   "id": "urban-recovery",
   "metadata": {},
   "source": [
    "패키지 불러오기"
   ]
  },
  {
   "cell_type": "code",
   "execution_count": 24,
   "id": "existing-antique",
   "metadata": {},
   "outputs": [],
   "source": [
    "import pandas as pd\n",
    "import urllib.request\n",
    "%matplotlib inline\n",
    "import matplotlib.pyplot as plt\n",
    "import re\n",
    "from konlpy.tag import Okt\n",
    "from tensorflow import keras\n",
    "from tensorflow.keras.preprocessing.text import Tokenizer\n",
    "import numpy as np\n",
    "from tensorflow.keras.preprocessing.sequence import pad_sequences\n",
    "from collections import Counter\n",
    "import os"
   ]
  },
  {
   "cell_type": "code",
   "execution_count": 25,
   "id": "thick-mercy",
   "metadata": {},
   "outputs": [
    {
     "data": {
      "text/html": [
       "<div>\n",
       "<style scoped>\n",
       "    .dataframe tbody tr th:only-of-type {\n",
       "        vertical-align: middle;\n",
       "    }\n",
       "\n",
       "    .dataframe tbody tr th {\n",
       "        vertical-align: top;\n",
       "    }\n",
       "\n",
       "    .dataframe thead th {\n",
       "        text-align: right;\n",
       "    }\n",
       "</style>\n",
       "<table border=\"1\" class=\"dataframe\">\n",
       "  <thead>\n",
       "    <tr style=\"text-align: right;\">\n",
       "      <th></th>\n",
       "      <th>id</th>\n",
       "      <th>document</th>\n",
       "      <th>label</th>\n",
       "    </tr>\n",
       "  </thead>\n",
       "  <tbody>\n",
       "    <tr>\n",
       "      <th>0</th>\n",
       "      <td>9976970</td>\n",
       "      <td>아 더빙.. 진짜 짜증나네요 목소리</td>\n",
       "      <td>0</td>\n",
       "    </tr>\n",
       "    <tr>\n",
       "      <th>1</th>\n",
       "      <td>3819312</td>\n",
       "      <td>흠...포스터보고 초딩영화줄....오버연기조차 가볍지 않구나</td>\n",
       "      <td>1</td>\n",
       "    </tr>\n",
       "    <tr>\n",
       "      <th>2</th>\n",
       "      <td>10265843</td>\n",
       "      <td>너무재밓었다그래서보는것을추천한다</td>\n",
       "      <td>0</td>\n",
       "    </tr>\n",
       "    <tr>\n",
       "      <th>3</th>\n",
       "      <td>9045019</td>\n",
       "      <td>교도소 이야기구먼 ..솔직히 재미는 없다..평점 조정</td>\n",
       "      <td>0</td>\n",
       "    </tr>\n",
       "    <tr>\n",
       "      <th>4</th>\n",
       "      <td>6483659</td>\n",
       "      <td>사이몬페그의 익살스런 연기가 돋보였던 영화!스파이더맨에서 늙어보이기만 했던 커스틴 ...</td>\n",
       "      <td>1</td>\n",
       "    </tr>\n",
       "  </tbody>\n",
       "</table>\n",
       "</div>"
      ],
      "text/plain": [
       "         id                                           document  label\n",
       "0   9976970                                아 더빙.. 진짜 짜증나네요 목소리      0\n",
       "1   3819312                  흠...포스터보고 초딩영화줄....오버연기조차 가볍지 않구나      1\n",
       "2  10265843                                  너무재밓었다그래서보는것을추천한다      0\n",
       "3   9045019                      교도소 이야기구먼 ..솔직히 재미는 없다..평점 조정      0\n",
       "4   6483659  사이몬페그의 익살스런 연기가 돋보였던 영화!스파이더맨에서 늙어보이기만 했던 커스틴 ...      1"
      ]
     },
     "execution_count": 25,
     "metadata": {},
     "output_type": "execute_result"
    }
   ],
   "source": [
    "# 데이터를 읽어봅시다. \n",
    "train_data_path = os.getenv('HOME') + '/aiffel/exp/exp4/dataset/sentiment_classification/ratings_train.txt'\n",
    "test_data_path = os.getenv('HOME') + '/aiffel/exp/exp4/dataset/sentiment_classification/ratings_test.txt'\n",
    "\n",
    "# train / test 각각 불러와서\n",
    "train_data = pd.read_table(train_data_path)\n",
    "test_data = pd.read_table(test_data_path)\n",
    "\n",
    "# train data head 보자\n",
    "train_data.head()"
   ]
  },
  {
   "cell_type": "code",
   "execution_count": 26,
   "id": "correct-preparation",
   "metadata": {},
   "outputs": [
    {
     "data": {
      "text/html": [
       "<div>\n",
       "<style scoped>\n",
       "    .dataframe tbody tr th:only-of-type {\n",
       "        vertical-align: middle;\n",
       "    }\n",
       "\n",
       "    .dataframe tbody tr th {\n",
       "        vertical-align: top;\n",
       "    }\n",
       "\n",
       "    .dataframe thead th {\n",
       "        text-align: right;\n",
       "    }\n",
       "</style>\n",
       "<table border=\"1\" class=\"dataframe\">\n",
       "  <thead>\n",
       "    <tr style=\"text-align: right;\">\n",
       "      <th></th>\n",
       "      <th>id</th>\n",
       "      <th>document</th>\n",
       "      <th>label</th>\n",
       "    </tr>\n",
       "  </thead>\n",
       "  <tbody>\n",
       "    <tr>\n",
       "      <th>0</th>\n",
       "      <td>6270596</td>\n",
       "      <td>굳 ㅋ</td>\n",
       "      <td>1</td>\n",
       "    </tr>\n",
       "    <tr>\n",
       "      <th>1</th>\n",
       "      <td>9274899</td>\n",
       "      <td>GDNTOPCLASSINTHECLUB</td>\n",
       "      <td>0</td>\n",
       "    </tr>\n",
       "    <tr>\n",
       "      <th>2</th>\n",
       "      <td>8544678</td>\n",
       "      <td>뭐야 이 평점들은.... 나쁘진 않지만 10점 짜리는 더더욱 아니잖아</td>\n",
       "      <td>0</td>\n",
       "    </tr>\n",
       "    <tr>\n",
       "      <th>3</th>\n",
       "      <td>6825595</td>\n",
       "      <td>지루하지는 않은데 완전 막장임... 돈주고 보기에는....</td>\n",
       "      <td>0</td>\n",
       "    </tr>\n",
       "    <tr>\n",
       "      <th>4</th>\n",
       "      <td>6723715</td>\n",
       "      <td>3D만 아니었어도 별 다섯 개 줬을텐데.. 왜 3D로 나와서 제 심기를 불편하게 하죠??</td>\n",
       "      <td>0</td>\n",
       "    </tr>\n",
       "  </tbody>\n",
       "</table>\n",
       "</div>"
      ],
      "text/plain": [
       "        id                                           document  label\n",
       "0  6270596                                                굳 ㅋ      1\n",
       "1  9274899                               GDNTOPCLASSINTHECLUB      0\n",
       "2  8544678             뭐야 이 평점들은.... 나쁘진 않지만 10점 짜리는 더더욱 아니잖아      0\n",
       "3  6825595                   지루하지는 않은데 완전 막장임... 돈주고 보기에는....      0\n",
       "4  6723715  3D만 아니었어도 별 다섯 개 줬을텐데.. 왜 3D로 나와서 제 심기를 불편하게 하죠??      0"
      ]
     },
     "execution_count": 26,
     "metadata": {},
     "output_type": "execute_result"
    }
   ],
   "source": [
    "# test data head 보자\n",
    "\n",
    "test_data.head()"
   ]
  },
  {
   "cell_type": "code",
   "execution_count": 27,
   "id": "coordinated-dominican",
   "metadata": {},
   "outputs": [],
   "source": [
    "from konlpy.tag import Mecab\n",
    "# mecab tokenizer 를 사용한다.\n",
    "tokenizer = Mecab()\n",
    "# 아래 stopword 들은 형태소로써 제외한다. \n",
    "stopwords = ['의','가','이','은','들','는','좀','잘','걍','과','도','를','으로','자','에','와','한','하다']\n",
    "\n",
    "def load_data(train_data, test_data, num_words=10000):\n",
    "    # document 부분만 필요하여 꺼내쓰겠다.\n",
    "    train_data.drop_duplicates(subset=['document'], inplace=True)\n",
    "    # 빈 거를 제외한다. NAN 제거\n",
    "    train_data = train_data.dropna(how = 'any') \n",
    "    # document 부분만 필요하여 꺼내쓰겠다.\n",
    "    test_data.drop_duplicates(subset=['document'], inplace=True)\n",
    "    # 빈 거를 제외한다. NAN 제거\n",
    "    test_data = test_data.dropna(how = 'any') \n",
    "\n",
    "    # return 할 x_train list 를 초기화 해준 뒤에\n",
    "    X_train = []\n",
    "    # document 안의 영화평을 긁어서 각각\n",
    "    for sentence in train_data['document']:\n",
    "        # 형태소 단위로 쪼갠 뒤에\n",
    "        temp_X = tokenizer.morphs(sentence) # 토큰화\n",
    "        # 불용어 제거한다.\n",
    "        temp_X = [word for word in temp_X if not word in stopwords] # 불용어 제거\n",
    "        # 담는다\n",
    "        X_train.append(temp_X)\n",
    "\n",
    "    # train 과 동일하다\n",
    "    X_test = []\n",
    "    for sentence in test_data['document']:\n",
    "        temp_X = tokenizer.morphs(sentence) # 토큰화\n",
    "        temp_X = [word for word in temp_X if not word in stopwords] # 불용어 제거\n",
    "        X_test.append(temp_X)\n",
    "\n",
    "    # list 를 np concatenate\n",
    "    words = np.concatenate(X_train).tolist()\n",
    "    # 단어 숫자를 세어서 'the':100 개 이런 식으로 dict 형태로 표현한다.\n",
    "    counter = Counter(words)\n",
    "    # 전체 형태소 중에서 가장 많이 사용하는 10000-4 개만 취하겠다.\n",
    "    counter = counter.most_common(10000-4)\n",
    "    vocab = ['<PAD>', '<BOS>', '<UNK>', '<UNUSED>'] + [key for key, _ in counter]\n",
    "    # enumerate 를 적용하여 단어:숫자 조합으로 진행한다.\n",
    "    word_to_index = {word:index for index, word in enumerate(vocab)}\n",
    "\n",
    "    def wordlist_to_indexlist(wordlist):\n",
    "        return [word_to_index[word] if word in word_to_index else word_to_index['<UNK>'] for word in wordlist]\n",
    "\n",
    "    X_train = list(map(wordlist_to_indexlist, X_train))\n",
    "    X_test = list(map(wordlist_to_indexlist, X_test))\n",
    "\n",
    "    return X_train, np.array(list(train_data['label'])), X_test, np.array(list(test_data['label'])), word_to_index\n",
    "\n",
    "X_train, y_train, X_test, y_test, word_to_index = load_data(train_data, test_data) "
   ]
  },
  {
   "cell_type": "code",
   "execution_count": 28,
   "id": "surprising-rwanda",
   "metadata": {},
   "outputs": [],
   "source": [
    "# 문장 1개를 활용할 딕셔너리와 함께 주면, 단어 인덱스 리스트 벡터로 변환해 주는 함수입니다. \n",
    "\n",
    "# 단, 모든 문장은 <BOS>로 시작하는 것으로 합니다. \n",
    "def get_encoded_sentence(sentence, word_to_index):\n",
    "    return [word_to_index['<BOS>']]+[word_to_index[word] if word in word_to_index else word_to_index['<UNK>'] for word in sentence.split()]\n",
    "\n",
    "# 여러 개의 문장 리스트를 한꺼번에 단어 인덱스 리스트 벡터로 encode해 주는 함수입니다. \n",
    "def get_encoded_sentences(sentences, word_to_index):\n",
    "    return [get_encoded_sentence(sentence, word_to_index) for sentence in sentences]\n",
    "\n",
    "# 숫자 벡터로 encode된 문장을 원래대로 decode하는 함수입니다. \n",
    "def get_decoded_sentence(encoded_sentence, index_to_word):\n",
    "    return ' '.join(index_to_word[index] if index in index_to_word else '<UNK>' for index in encoded_sentence[1:])  #[1:]를 통해 <BOS>를 제외\n",
    "\n",
    "# 여러개의 숫자 벡터로 encode된 문장을 한꺼번에 원래대로 decode하는 함수입니다. \n",
    "def get_decoded_sentences(encoded_sentences, index_to_word):\n",
    "    return [get_decoded_sentence(encoded_sentence, index_to_word) for encoded_sentence in encoded_sentences]"
   ]
  },
  {
   "cell_type": "code",
   "execution_count": 38,
   "id": "frank-documentation",
   "metadata": {},
   "outputs": [
    {
     "name": "stdout",
     "output_type": "stream",
     "text": [
      "<UNK> <UNK> <UNK> <UNK> <UNK> <UNK> <UNK> <UNK> <UNK>\n",
      "라벨:  0\n"
     ]
    }
   ],
   "source": [
    "print(get_decoded_sentence(X_train[0], word_to_index))\n",
    "print('라벨: ', y_train[0])  # 1번째 리뷰데이터의 라벨"
   ]
  },
  {
   "cell_type": "code",
   "execution_count": 41,
   "id": "automotive-locator",
   "metadata": {},
   "outputs": [
    {
     "name": "stdout",
     "output_type": "stream",
     "text": [
      "문장길이 평균 :  15.969376315021577\n",
      "문장길이 최대 :  116\n",
      "문장길이 표준편차 :  12.843535456326455\n",
      "pad_sequences maxlen :  41\n",
      "전체 문장의 0.9342988343341575%가 maxlen 설정값 이내에 포함됩니다.\n"
     ]
    }
   ],
   "source": [
    "total_data_text = list(X_train) + list(X_test)\n",
    "# 텍스트데이터 문장길이의 리스트를 생성한 후\n",
    "num_tokens = [len(tokens) for tokens in total_data_text]\n",
    "num_tokens = np.array(num_tokens)\n",
    "# 문장길이의 평균값, 최대값, 표준편차를 계산해 본다. \n",
    "print('문장길이 평균 : ', np.mean(num_tokens))\n",
    "print('문장길이 최대 : ', np.max(num_tokens))\n",
    "print('문장길이 표준편차 : ', np.std(num_tokens))\n",
    "\n",
    "# 예를들어, 최대 길이를 (평균 + 2*표준편차)로 한다면,  \n",
    "max_tokens = np.mean(num_tokens) + 2 * np.std(num_tokens)\n",
    "maxlen = int(max_tokens)\n",
    "print('pad_sequences maxlen : ', maxlen)\n",
    "print('전체 문장의 {}%가 maxlen 설정값 이내에 포함됩니다.'.format(np.sum(num_tokens < max_tokens) / len(num_tokens)))"
   ]
  },
  {
   "cell_type": "markdown",
   "id": "imperial-carpet",
   "metadata": {},
   "source": [
    "PAD 채워주기"
   ]
  },
  {
   "cell_type": "code",
   "execution_count": 44,
   "id": "combined-scientist",
   "metadata": {},
   "outputs": [
    {
     "name": "stdout",
     "output_type": "stream",
     "text": [
      "(146182, 41)\n",
      "(49157, 41)\n"
     ]
    }
   ],
   "source": [
    "X_train = keras.preprocessing.sequence.pad_sequences(X_train,\n",
    "                                                        value=word_to_index[\"<PAD>\"],\n",
    "                                                        padding='pre', \n",
    "                                                        maxlen=maxlen)\n",
    "\n",
    "X_test = keras.preprocessing.sequence.pad_sequences(X_test,\n",
    "                                                       value=word_to_index[\"<PAD>\"],\n",
    "                                                       padding='pre', \n",
    "                                                       maxlen=maxlen)\n",
    "\n",
    "print(X_train.shape)\n",
    "print(X_test.shape)"
   ]
  },
  {
   "cell_type": "markdown",
   "id": "simple-vietnam",
   "metadata": {},
   "source": [
    "## TRAIN / VALIDATION / TEST DATASET 분리"
   ]
  },
  {
   "cell_type": "code",
   "execution_count": 52,
   "id": "formed-holocaust",
   "metadata": {},
   "outputs": [
    {
     "name": "stdout",
     "output_type": "stream",
     "text": [
      "(10000, 41)\n",
      "(10000,)\n",
      "(136182, 41)\n",
      "(136182,)\n"
     ]
    }
   ],
   "source": [
    "# validation set 10000건 분리\n",
    "X_val = X_train[:10000]   \n",
    "y_val = y_train[:10000]\n",
    "\n",
    "# validation set을 제외한 나머지 15000건\n",
    "partial_X_train = X_train[10000:]  \n",
    "partial_y_train = y_train[10000:]\n",
    "\n",
    "print(X_val.shape)\n",
    "print(y_val.shape)\n",
    "print(partial_X_train.shape)\n",
    "print(partial_y_train.shape)"
   ]
  },
  {
   "cell_type": "markdown",
   "id": "south-cement",
   "metadata": {},
   "source": [
    "## RNN-LSTM 모델 설계"
   ]
  },
  {
   "cell_type": "code",
   "execution_count": 53,
   "id": "boring-racing",
   "metadata": {},
   "outputs": [
    {
     "name": "stdout",
     "output_type": "stream",
     "text": [
      "Model: \"sequential_4\"\n",
      "_________________________________________________________________\n",
      "Layer (type)                 Output Shape              Param #   \n",
      "=================================================================\n",
      "embedding_4 (Embedding)      (None, None, 16)          160000    \n",
      "_________________________________________________________________\n",
      "lstm_2 (LSTM)                (None, 8)                 800       \n",
      "_________________________________________________________________\n",
      "dense_8 (Dense)              (None, 8)                 72        \n",
      "_________________________________________________________________\n",
      "dense_9 (Dense)              (None, 1)                 9         \n",
      "=================================================================\n",
      "Total params: 160,881\n",
      "Trainable params: 160,881\n",
      "Non-trainable params: 0\n",
      "_________________________________________________________________\n"
     ]
    }
   ],
   "source": [
    "vocab_size = 10000    # 어휘 사전의 크기입니다(10,000개의 단어)\n",
    "word_vector_dim = 16  # 워드 벡터의 차원수 (변경가능한 하이퍼파라미터)\n",
    "\n",
    "model_LSTM = keras.Sequential()\n",
    "model_LSTM.add(keras.layers.Embedding(vocab_size, word_vector_dim, input_shape=(None,)))\n",
    "model_LSTM.add(keras.layers.LSTM(8))   # 가장 널리 쓰이는 RNN인 LSTM 레이어를 사용하였습니다. 이때 LSTM state 벡터의 차원수는 8로 하였습니다. (변경가능)\n",
    "model_LSTM.add(keras.layers.Dense(8, activation='relu'))\n",
    "model_LSTM.add(keras.layers.Dense(1, activation='sigmoid'))  # 최종 출력은 긍정/부정을 나타내는 1dim 입니다.\n",
    "\n",
    "model_LSTM.summary()"
   ]
  },
  {
   "cell_type": "markdown",
   "id": "interim-carrier",
   "metadata": {},
   "source": [
    "RNN-LSTM 학습시키자"
   ]
  },
  {
   "cell_type": "code",
   "execution_count": 59,
   "id": "composite-disability",
   "metadata": {},
   "outputs": [
    {
     "name": "stdout",
     "output_type": "stream",
     "text": [
      "Train on 136182 samples, validate on 10000 samples\n",
      "Epoch 1/10\n",
      "136182/136182 [==============================] - 3s 24us/sample - loss: 0.1624 - accuracy: 0.9375 - val_loss: 0.5036 - val_accuracy: 0.8454\n",
      "Epoch 2/10\n",
      "136182/136182 [==============================] - 2s 11us/sample - loss: 0.1535 - accuracy: 0.9406 - val_loss: 0.5249 - val_accuracy: 0.8434\n",
      "Epoch 3/10\n",
      "136182/136182 [==============================] - 2s 11us/sample - loss: 0.1476 - accuracy: 0.9437 - val_loss: 0.5414 - val_accuracy: 0.8428\n",
      "Epoch 4/10\n",
      "136182/136182 [==============================] - 2s 11us/sample - loss: 0.1431 - accuracy: 0.9462 - val_loss: 0.5856 - val_accuracy: 0.8413\n",
      "Epoch 5/10\n",
      "136182/136182 [==============================] - 2s 12us/sample - loss: 0.1419 - accuracy: 0.9462 - val_loss: 0.5831 - val_accuracy: 0.8407\n",
      "Epoch 6/10\n",
      "136182/136182 [==============================] - 2s 11us/sample - loss: 0.1352 - accuracy: 0.9487 - val_loss: 0.6099 - val_accuracy: 0.8413\n",
      "Epoch 7/10\n",
      "136182/136182 [==============================] - 2s 11us/sample - loss: 0.1313 - accuracy: 0.9502 - val_loss: 0.6261 - val_accuracy: 0.8429\n",
      "Epoch 8/10\n",
      "136182/136182 [==============================] - 2s 12us/sample - loss: 0.1268 - accuracy: 0.9529 - val_loss: 0.6454 - val_accuracy: 0.8394\n",
      "Epoch 9/10\n",
      "136182/136182 [==============================] - 2s 11us/sample - loss: 0.1236 - accuracy: 0.9541 - val_loss: 0.6637 - val_accuracy: 0.8391\n",
      "Epoch 10/10\n",
      "136182/136182 [==============================] - 2s 11us/sample - loss: 0.1206 - accuracy: 0.9554 - val_loss: 0.6836 - val_accuracy: 0.8411\n"
     ]
    }
   ],
   "source": [
    "model_LSTM.compile(optimizer='adam',\n",
    "              loss='binary_crossentropy',\n",
    "              metrics=['accuracy'])\n",
    "              \n",
    "epochs=10  # 몇 epoch를 훈련하면 좋을지 결과를 보면서 바꾸어 봅시다. \n",
    "\n",
    "history_LSTM = model_LSTM.fit(partial_X_train,\n",
    "                    partial_y_train,\n",
    "                    epochs=epochs,\n",
    "                    batch_size=512,\n",
    "                    validation_data=(X_val, y_val),\n",
    "                    verbose=1)"
   ]
  },
  {
   "cell_type": "code",
   "execution_count": 60,
   "id": "presidential-interaction",
   "metadata": {},
   "outputs": [
    {
     "name": "stdout",
     "output_type": "stream",
     "text": [
      "49157/1 - 2s - loss: 0.9035 - accuracy: 0.8344\n",
      "[0.6918347935924223, 0.8344488]\n"
     ]
    }
   ],
   "source": [
    "results = model_LSTM.evaluate(X_test,  y_test, verbose=2)\n",
    "print(results)"
   ]
  },
  {
   "cell_type": "code",
   "execution_count": 63,
   "id": "protected-scanner",
   "metadata": {},
   "outputs": [
    {
     "name": "stdout",
     "output_type": "stream",
     "text": [
      "dict_keys(['loss', 'accuracy', 'val_loss', 'val_accuracy'])\n"
     ]
    }
   ],
   "source": [
    "history_dict_LSTM = history_LSTM.history\n",
    "print(history_dict_LSTM.keys()) # epoch에 따른 그래프를 그려볼 수 있는 항목들"
   ]
  },
  {
   "cell_type": "code",
   "execution_count": 64,
   "id": "sensitive-condition",
   "metadata": {},
   "outputs": [
    {
     "data": {
      "image/png": "[encoded data removed]",
      "text/plain": [
       "<Figure size 432x288 with 1 Axes>"
      ]
     },
     "metadata": {
      "needs_background": "light"
     },
     "output_type": "display_data"
    }
   ],
   "source": [
    "import matplotlib.pyplot as plt\n",
    "\n",
    "acc = history_dict_LSTM['accuracy']\n",
    "val_acc = history_dict_LSTM['val_accuracy']\n",
    "loss = history_dict_LSTM['loss']\n",
    "val_loss = history_dict_LSTM['val_loss']\n",
    "\n",
    "epochs = range(1, len(acc) + 1)\n",
    "\n",
    "# \"bo\"는 \"파란색 점\"입니다\n",
    "plt.plot(epochs, loss, 'bo', label='Training loss')\n",
    "# b는 \"파란 실선\"입니다\n",
    "plt.plot(epochs, val_loss, 'b', label='Validation loss')\n",
    "plt.title('Training and validation loss')\n",
    "plt.xlabel('Epochs')\n",
    "plt.ylabel('Loss')\n",
    "plt.legend()\n",
    "\n",
    "plt.show()"
   ]
  },
  {
   "cell_type": "markdown",
   "id": "filled-activity",
   "metadata": {},
   "source": [
    "## CNN 모델 설계"
   ]
  },
  {
   "cell_type": "code",
   "execution_count": 47,
   "id": "rolled-frame",
   "metadata": {},
   "outputs": [
    {
     "name": "stdout",
     "output_type": "stream",
     "text": [
      "Model: \"sequential_2\"\n",
      "_________________________________________________________________\n",
      "Layer (type)                 Output Shape              Param #   \n",
      "=================================================================\n",
      "embedding_2 (Embedding)      (None, None, 16)          160000    \n",
      "_________________________________________________________________\n",
      "conv1d (Conv1D)              (None, None, 16)          1808      \n",
      "_________________________________________________________________\n",
      "max_pooling1d (MaxPooling1D) (None, None, 16)          0         \n",
      "_________________________________________________________________\n",
      "conv1d_1 (Conv1D)            (None, None, 16)          1808      \n",
      "_________________________________________________________________\n",
      "global_max_pooling1d (Global (None, 16)                0         \n",
      "_________________________________________________________________\n",
      "dense_4 (Dense)              (None, 8)                 136       \n",
      "_________________________________________________________________\n",
      "dense_5 (Dense)              (None, 1)                 9         \n",
      "=================================================================\n",
      "Total params: 163,761\n",
      "Trainable params: 163,761\n",
      "Non-trainable params: 0\n",
      "_________________________________________________________________\n"
     ]
    }
   ],
   "source": [
    "vocab_size = 10000    # 어휘 사전의 크기입니다(10,000개의 단어)\n",
    "word_vector_dim = 16  # 워드 벡터의 차원수 (변경가능한 하이퍼파라미터)\n",
    "\n",
    "model_CNN = keras.Sequential()\n",
    "model_CNN.add(keras.layers.Embedding(vocab_size, word_vector_dim, input_shape=(None,)))\n",
    "model_CNN.add(keras.layers.Conv1D(16, 7, activation='relu'))\n",
    "model_CNN.add(keras.layers.MaxPooling1D(5))\n",
    "model_CNN.add(keras.layers.Conv1D(16, 7, activation='relu'))\n",
    "model_CNN.add(keras.layers.GlobalMaxPooling1D())\n",
    "model_CNN.add(keras.layers.Dense(8, activation='relu'))\n",
    "model_CNN.add(keras.layers.Dense(1, activation='sigmoid'))  # 최종 출력은 긍정/부정을 나타내는 1dim 입니다.\n",
    "\n",
    "model_CNN.summary()"
   ]
  },
  {
   "cell_type": "code",
   "execution_count": 84,
   "id": "together-cancer",
   "metadata": {},
   "outputs": [
    {
     "name": "stdout",
     "output_type": "stream",
     "text": [
      "Train on 136182 samples, validate on 10000 samples\n",
      "Epoch 1/2\n",
      "136182/136182 [==============================] - 2s 14us/sample - loss: 0.0306 - accuracy: 0.9901 - val_loss: 1.1508 - val_accuracy: 0.8119\n",
      "Epoch 2/2\n",
      "136182/136182 [==============================] - 1s 9us/sample - loss: 0.0254 - accuracy: 0.9922 - val_loss: 1.1525 - val_accuracy: 0.8159\n"
     ]
    }
   ],
   "source": [
    "model_CNN.compile(optimizer='adam',\n",
    "              loss='binary_crossentropy',\n",
    "              metrics=['accuracy'])\n",
    "              \n",
    "epochs=2  # 몇 epoch를 훈련하면 좋을지 결과를 보면서 바꾸어 봅시다. \n",
    "\n",
    "history_CNN = model_CNN.fit(partial_X_train,\n",
    "                    partial_y_train,\n",
    "                    epochs=epochs,\n",
    "                    batch_size=512,\n",
    "                    validation_data=(X_val, y_val),\n",
    "                    verbose=1)"
   ]
  },
  {
   "cell_type": "code",
   "execution_count": 85,
   "id": "checked-yellow",
   "metadata": {},
   "outputs": [
    {
     "name": "stdout",
     "output_type": "stream",
     "text": [
      "49157/1 - 2s - loss: 1.5121 - accuracy: 0.8101\n",
      "[1.1732053824324888, 0.81013894]\n"
     ]
    }
   ],
   "source": [
    "results_CNN = model_CNN.evaluate(X_test,  y_test, verbose=2)\n",
    "print(results_CNN)"
   ]
  },
  {
   "cell_type": "code",
   "execution_count": 86,
   "id": "consistent-injury",
   "metadata": {},
   "outputs": [
    {
     "name": "stdout",
     "output_type": "stream",
     "text": [
      "dict_keys(['loss', 'accuracy', 'val_loss', 'val_accuracy'])\n"
     ]
    }
   ],
   "source": [
    "history_dict_CNN = history_CNN.history\n",
    "print(history_dict_CNN.keys()) # epoch에 따른 그래프를 그려볼 수 있는 항목들"
   ]
  },
  {
   "cell_type": "code",
   "execution_count": 87,
   "id": "engaging-dylan",
   "metadata": {},
   "outputs": [
    {
     "data": {
      "image/png": "[encoded data removed]",
      "text/plain": [
       "<Figure size 432x288 with 1 Axes>"
      ]
     },
     "metadata": {
      "needs_background": "light"
     },
     "output_type": "display_data"
    }
   ],
   "source": [
    "import matplotlib.pyplot as plt\n",
    "\n",
    "acc = history_dict_CNN['accuracy']\n",
    "val_acc = history_dict_CNN['val_accuracy']\n",
    "loss = history_dict_CNN['loss']\n",
    "val_loss = history_dict_CNN['val_loss']\n",
    "\n",
    "epochs = range(1, len(acc) + 1)\n",
    "\n",
    "# \"bo\"는 \"파란색 점\"입니다\n",
    "plt.plot(epochs, loss, 'bo', label='Training loss')\n",
    "# b는 \"파란 실선\"입니다\n",
    "plt.plot(epochs, val_loss, 'b', label='Validation loss')\n",
    "plt.title('Training and validation loss')\n",
    "plt.xlabel('Epochs')\n",
    "plt.ylabel('Loss')\n",
    "plt.legend()\n",
    "\n",
    "plt.show()"
   ]
  },
  {
   "cell_type": "markdown",
   "id": "widespread-provider",
   "metadata": {},
   "source": [
    "## CNN_ECLASS 모델 설계"
   ]
  },
  {
   "cell_type": "code",
   "execution_count": 48,
   "id": "brazilian-teach",
   "metadata": {},
   "outputs": [
    {
     "name": "stdout",
     "output_type": "stream",
     "text": [
      "Model: \"sequential_3\"\n",
      "_________________________________________________________________\n",
      "Layer (type)                 Output Shape              Param #   \n",
      "=================================================================\n",
      "embedding_3 (Embedding)      (None, None, 16)          160000    \n",
      "_________________________________________________________________\n",
      "global_max_pooling1d_1 (Glob (None, 16)                0         \n",
      "_________________________________________________________________\n",
      "dense_6 (Dense)              (None, 8)                 136       \n",
      "_________________________________________________________________\n",
      "dense_7 (Dense)              (None, 1)                 9         \n",
      "=================================================================\n",
      "Total params: 160,145\n",
      "Trainable params: 160,145\n",
      "Non-trainable params: 0\n",
      "_________________________________________________________________\n"
     ]
    }
   ],
   "source": [
    "vocab_size = 10000    # 어휘 사전의 크기입니다(10,000개의 단어)\n",
    "word_vector_dim = 16  # 워드 벡터의 차원수 (변경가능한 하이퍼파라미터)\n",
    "\n",
    "model_CNN_ECLASS = keras.Sequential()\n",
    "model_CNN_ECLASS.add(keras.layers.Embedding(vocab_size, word_vector_dim, input_shape=(None,)))\n",
    "model_CNN_ECLASS.add(keras.layers.GlobalMaxPooling1D())\n",
    "model_CNN_ECLASS.add(keras.layers.Dense(8, activation='relu'))\n",
    "model_CNN_ECLASS.add(keras.layers.Dense(1, activation='sigmoid'))  # 최종 출력은 긍정/부정을 나타내는 1dim 입니다.\n",
    "\n",
    "model_CNN_ECLASS.summary()"
   ]
  },
  {
   "cell_type": "code",
   "execution_count": 92,
   "id": "nominated-iraqi",
   "metadata": {},
   "outputs": [
    {
     "name": "stdout",
     "output_type": "stream",
     "text": [
      "Train on 136182 samples, validate on 10000 samples\n",
      "Epoch 1/3\n",
      "136182/136182 [==============================] - 1s 11us/sample - loss: 0.1525 - accuracy: 0.9455 - val_loss: 0.5227 - val_accuracy: 0.8316\n",
      "Epoch 2/3\n",
      "136182/136182 [==============================] - 1s 7us/sample - loss: 0.1478 - accuracy: 0.9475 - val_loss: 0.5339 - val_accuracy: 0.8293\n",
      "Epoch 3/3\n",
      "136182/136182 [==============================] - 1s 8us/sample - loss: 0.1440 - accuracy: 0.9495 - val_loss: 0.5452 - val_accuracy: 0.8269\n"
     ]
    }
   ],
   "source": [
    "model_CNN_ECLASS.compile(optimizer='adam',\n",
    "              loss='binary_crossentropy',\n",
    "              metrics=['accuracy'])\n",
    "              \n",
    "epochs=3  # 몇 epoch를 훈련하면 좋을지 결과를 보면서 바꾸어 봅시다. \n",
    "\n",
    "history_CNN_ECLASS = model_CNN_ECLASS.fit(partial_X_train,\n",
    "                    partial_y_train,\n",
    "                    epochs=epochs,\n",
    "                    batch_size=512,\n",
    "                    validation_data=(X_val, y_val),\n",
    "                    verbose=1)"
   ]
  },
  {
   "cell_type": "code",
   "execution_count": 93,
   "id": "coastal-assumption",
   "metadata": {},
   "outputs": [
    {
     "name": "stdout",
     "output_type": "stream",
     "text": [
      "49157/1 - 2s - loss: 0.6459 - accuracy: 0.8250\n",
      "[0.5519991851035817, 0.82503]\n"
     ]
    }
   ],
   "source": [
    "results_CNN_ECLASS = model_CNN_ECLASS.evaluate(X_test,  y_test, verbose=2)\n",
    "print(results_CNN_ECLASS)"
   ]
  },
  {
   "cell_type": "code",
   "execution_count": 94,
   "id": "scenic-ceiling",
   "metadata": {},
   "outputs": [
    {
     "name": "stdout",
     "output_type": "stream",
     "text": [
      "dict_keys(['loss', 'accuracy', 'val_loss', 'val_accuracy'])\n"
     ]
    }
   ],
   "source": [
    "history_dict_CNN_ECLASS = history_CNN_ECLASS.history\n",
    "print(history_dict_CNN_ECLASS.keys()) # epoch에 따른 그래프를 그려볼 수 있는 항목들"
   ]
  },
  {
   "cell_type": "code",
   "execution_count": 95,
   "id": "developing-bobby",
   "metadata": {},
   "outputs": [
    {
     "data": {
      "image/png": "[encoded data removed]",
      "text/plain": [
       "<Figure size 432x288 with 1 Axes>"
      ]
     },
     "metadata": {
      "needs_background": "light"
     },
     "output_type": "display_data"
    }
   ],
   "source": [
    "import matplotlib.pyplot as plt\n",
    "\n",
    "acc = history_dict_CNN_ECLASS['accuracy']\n",
    "val_acc = history_dict_CNN_ECLASS['val_accuracy']\n",
    "loss = history_dict_CNN_ECLASS['loss']\n",
    "val_loss = history_dict_CNN_ECLASS['val_loss']\n",
    "\n",
    "epochs = range(1, len(acc) + 1)\n",
    "\n",
    "# \"bo\"는 \"파란색 점\"입니다\n",
    "plt.plot(epochs, loss, 'bo', label='Training loss')\n",
    "# b는 \"파란 실선\"입니다\n",
    "plt.plot(epochs, val_loss, 'b', label='Validation loss')\n",
    "plt.title('Training and validation loss')\n",
    "plt.xlabel('Epochs')\n",
    "plt.ylabel('Loss')\n",
    "plt.legend()\n",
    "\n",
    "plt.show()"
   ]
  },
  {
   "cell_type": "code",
   "execution_count": 105,
   "id": "registered-uzbekistan",
   "metadata": {},
   "outputs": [],
   "source": [
    "import gensim\n",
    "import os\n",
    "\n",
    "word2vec_path = os.getenv('HOME') + '/aiffel/exp/exp4/word2vec_pretrained/ko.bin'\n",
    "model = gensim.models.Word2Vec.load(word2vec_path)"
   ]
  },
  {
   "cell_type": "code",
   "execution_count": 106,
   "id": "blank-entertainment",
   "metadata": {},
   "outputs": [
    {
     "name": "stdout",
     "output_type": "stream",
     "text": [
      "[('고양이', 0.7290453314781189), ('거위', 0.7185634970664978), ('토끼', 0.7056223750114441), ('멧돼지', 0.6950401067733765), ('엄마', 0.693433403968811), ('난쟁이', 0.6806551218032837), ('한마리', 0.6770296096801758), ('아가씨', 0.675035297870636), ('아빠', 0.6729634404182434), ('목걸이', 0.6512461304664612)]\n"
     ]
    }
   ],
   "source": [
    "result = model.wv.most_similar(\"강아지\")\n",
    "print(result)"
   ]
  },
  {
   "cell_type": "code",
   "execution_count": 112,
   "id": "approximate-rebound",
   "metadata": {},
   "outputs": [
    {
     "name": "stdout",
     "output_type": "stream",
     "text": [
      "Word2Vec(vocab=30185, size=200, alpha=0.025)\n"
     ]
    }
   ],
   "source": [
    "print(model) # 모델의 크기 확인  Word2Vec(vocab=30185, size=200, alpha=0.025)"
   ]
  },
  {
   "cell_type": "markdown",
   "id": "attempted-generation",
   "metadata": {},
   "source": []
  },
  {
   "cell_type": "code",
   "execution_count": 130,
   "id": "modified-pantyhose",
   "metadata": {},
   "outputs": [
    {
     "name": "stdout",
     "output_type": "stream",
     "text": [
      "Model: \"sequential_5\"\n",
      "_________________________________________________________________\n",
      "Layer (type)                 Output Shape              Param #   \n",
      "=================================================================\n",
      "embedding_9 (Embedding)      (None, 41, 200)           6037000   \n",
      "_________________________________________________________________\n",
      "conv1d_14 (Conv1D)           (None, 35, 16)            22416     \n",
      "_________________________________________________________________\n",
      "max_pooling1d_1 (MaxPooling1 (None, 7, 16)             0         \n",
      "_________________________________________________________________\n",
      "conv1d_15 (Conv1D)           (None, 1, 16)             1808      \n",
      "_________________________________________________________________\n",
      "global_max_pooling1d_14 (Glo (None, 16)                0         \n",
      "_________________________________________________________________\n",
      "dense_12 (Dense)             (None, 8)                 136       \n",
      "_________________________________________________________________\n",
      "dense_13 (Dense)             (None, 1)                 9         \n",
      "=================================================================\n",
      "Total params: 6,061,369\n",
      "Trainable params: 6,061,369\n",
      "Non-trainable params: 0\n",
      "_________________________________________________________________\n"
     ]
    }
   ],
   "source": [
    "from tensorflow.keras.initializers import Constant\n",
    "\n",
    "vocab_size = 30185    # 어휘 사전의 크기입니다(10,000개의 단어)\n",
    "word_vector_dim = 200  # 워드 벡터의 차원수 (변경가능한 하이퍼파라미터)\n",
    "\n",
    "# 모델 구성\n",
    "model = keras.Sequential()\n",
    "model.add(keras.layers.Embedding(vocab_size, \n",
    "                                 word_vector_dim, \n",
    "                                 embeddings_initializer=Constant(embedding_matrix),  # 카피한 임베딩을 여기서 활용\n",
    "                                 input_length=maxlen, \n",
    "                                 trainable=True))   # trainable을 True로 주면 Fine-tuning\n",
    "model.add(keras.layers.Conv1D(16, 7, activation='relu'))\n",
    "model.add(keras.layers.MaxPooling1D(5))\n",
    "model.add(keras.layers.Conv1D(16, 7, activation='relu'))\n",
    "model.add(keras.layers.GlobalMaxPooling1D())\n",
    "model.add(keras.layers.Dense(8, activation='relu'))\n",
    "model.add(keras.layers.Dense(1, activation='sigmoid')) \n",
    "\n",
    "model.summary()"
   ]
  },
  {
   "cell_type": "code",
   "execution_count": 138,
   "id": "mounted-theme",
   "metadata": {},
   "outputs": [
    {
     "name": "stdout",
     "output_type": "stream",
     "text": [
      "Train on 136182 samples, validate on 10000 samples\n",
      "Epoch 1/2\n",
      "136182/136182 [==============================] - 16s 117us/sample - loss: 0.6932 - accuracy: 0.5010 - val_loss: 0.6931 - val_accuracy: 0.5027\n",
      "Epoch 2/2\n",
      "136182/136182 [==============================] - 15s 109us/sample - loss: 0.6931 - accuracy: 0.5016 - val_loss: 0.6931 - val_accuracy: 0.5027\n"
     ]
    }
   ],
   "source": [
    "# 학습의 진행\n",
    "model.compile(optimizer='adam',\n",
    "              loss='binary_crossentropy',\n",
    "              metrics=['accuracy'])\n",
    "              \n",
    "epochs=2  # 몇 epoch를 훈련하면 좋을지 결과를 보면서 바꾸어 봅시다. \n",
    "\n",
    "history = model.fit(partial_X_train,\n",
    "                    partial_y_train,\n",
    "                    epochs=epochs,\n",
    "                    batch_size=512,\n",
    "                    validation_data=(X_val, y_val),\n",
    "                    verbose=1)"
   ]
  },
  {
   "cell_type": "code",
   "execution_count": 139,
   "id": "hearing-helena",
   "metadata": {},
   "outputs": [
    {
     "name": "stdout",
     "output_type": "stream",
     "text": [
      "49157/1 - 9s - loss: 0.6920 - accuracy: 0.4973\n",
      "[0.6931759433759724, 0.49730456]\n"
     ]
    }
   ],
   "source": [
    "results_pretrained_word2vec = model.evaluate(X_test, y_test, verbose=2)\n",
    "print(results_pretrained_word2vec)"
   ]
  },
  {
   "cell_type": "code",
   "execution_count": 140,
   "id": "certain-still",
   "metadata": {},
   "outputs": [
    {
     "name": "stdout",
     "output_type": "stream",
     "text": [
      "dict_keys(['loss', 'accuracy', 'val_loss', 'val_accuracy'])\n"
     ]
    }
   ],
   "source": [
    "history_dict_pretrained_word2vec = history.history\n",
    "print(history_dict_pretrained_word2vec.keys()) # epoch에 따른 그래프를 그려볼 수 있는 항목들"
   ]
  },
  {
   "cell_type": "code",
   "execution_count": 141,
   "id": "received-joshua",
   "metadata": {},
   "outputs": [
    {
     "data": {
      "image/png": "[encoded data removed]",
      "text/plain": [
       "<Figure size 432x288 with 1 Axes>"
      ]
     },
     "metadata": {
      "needs_background": "light"
     },
     "output_type": "display_data"
    }
   ],
   "source": [
    "import matplotlib.pyplot as plt\n",
    "\n",
    "acc = history_dict_pretrained_word2vec['accuracy']\n",
    "val_acc = history_dict_pretrained_word2vec['val_accuracy']\n",
    "loss = history_dict_pretrained_word2vec['loss']\n",
    "val_loss = history_dict_pretrained_word2vec['val_loss']\n",
    "\n",
    "epochs = range(1, len(acc) + 1)\n",
    "\n",
    "# \"bo\"는 \"파란색 점\"입니다\n",
    "plt.plot(epochs, loss, 'bo', label='Training loss')\n",
    "# b는 \"파란 실선\"입니다\n",
    "plt.plot(epochs, val_loss, 'b', label='Validation loss')\n",
    "plt.title('Training and validation loss')\n",
    "plt.xlabel('Epochs')\n",
    "plt.ylabel('Loss')\n",
    "plt.legend()\n",
    "\n",
    "plt.show()"
   ]
  },
  {
   "cell_type": "markdown",
   "id": "promising-calcium",
   "metadata": {},
   "source": [
    "느낀 점들\n",
    "\n",
    "EPOCH 을 수십-수백번 돌려야 될것같았는데 생각 외로, VALIDATION LOSS GRAPH 를 보게되면 3번 이후부터 과적합이 되는 것을 확인하였다.\n",
    "\n",
    "CNN 으로 문장 SEQUENCE를 학습한다는 것에 대해서 이해가 되지 않는다.\n",
    "이에 대해 퍼실님들의 설명이 있으면 좋겠다.\n",
    "\n",
    "WORD2VEC 을 적용하여 정확도가 떨어졌다. 떨어진 이유는 내가 잘 적용하지 못한 것 같다.\n",
    "단어의 의미정보를 WORD2VEC 로 추가하여 넣어주었는데 과연 분류 성능이 떨어진다는 것이 말이 될까?\n",
    "과연 말/글 의 정보에는 의미란 필요없고 단순 단어들의 조합에 불과한 것일까?\n",
    "\n",
    "RNN 에 대해서 이해하지 못한 상태로 노드를 진행하다보니 학습이 잘 되지 않은 것 같다.\n",
    "후에 개념을 잡고 나서 비슷한 노드가 있으면 과연 잘 할 수 있을까?\n",
    "\n",
    "영화 평가 글들은 사실 구어체로 쓰여져있다. 대체로\n",
    "이것을 위키피디아 같은 문어체 단어들을 학습한 PRETRAINED 모델을 적용하여 학습하는게 맞는 것일까?\n",
    "\n",
    "NLP 라고하는 자연어처리를 통해서 어떤 문제를 해결할 수 있는데 적용가능한지 다양한 사례를 보고싶다."
   ]
  }
 ],
 "metadata": {
  "kernelspec": {
   "display_name": "aiffel",
   "language": "python",
   "name": "aiffel"
  },
  "language_info": {
   "codemirror_mode": {
    "name": "ipython",
    "version": 3
   },
   "file_extension": ".py",
   "mimetype": "text/x-python",
   "name": "python",
   "nbconvert_exporter": "python",
   "pygments_lexer": "ipython3",
   "version": "3.7.0"
  }
 },
 "nbformat": 4,
 "nbformat_minor": 5
}
