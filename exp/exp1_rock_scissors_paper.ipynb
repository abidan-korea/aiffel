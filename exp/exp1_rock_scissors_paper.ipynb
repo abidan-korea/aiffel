{
 "cells": [
  {
   "cell_type": "markdown",
   "metadata": {},
   "source": [
    "# 가위바위보 이미지를 딥러닝 학습시키기\n",
    "\n",
    "\n",
    "## *목차\n",
    "\n",
    "\n",
    "#### 1.각 패키지 불러오기\n",
    "#### 2.모든 경로 설정하기\n",
    "#### 3.학습 및 테스트 데이터셋 준비, 전처리\n",
    "#### 4.딥러닝 네트워크 설계하기\n",
    "#### 5.훈련\n",
    "#### 6.추론\n",
    "#### 논의사항"
   ]
  },
  {
   "cell_type": "markdown",
   "metadata": {},
   "source": [
    "## 1. 각 패키지 설치 및 불러오기"
   ]
  },
  {
   "cell_type": "code",
   "execution_count": 84,
   "metadata": {},
   "outputs": [
    {
     "name": "stdout",
     "output_type": "stream",
     "text": [
      "Requirement already satisfied: pillow in /home/aiffel/anaconda3/envs/aiffel/lib/python3.7/site-packages (8.0.1)\r\n"
     ]
    }
   ],
   "source": [
    "# 패키지 설치 및 불러오기\n",
    "\n",
    "!pip install pillow  \n",
    "from PIL import Image\n",
    "import glob, os\n",
    "import matplotlib.pyplot as plt\n",
    "import numpy as np\n",
    "import tensorflow as tf\n",
    "from tensorflow import keras"
   ]
  },
  {
   "cell_type": "markdown",
   "metadata": {},
   "source": [
    "## 2. 모든 경로 설정하기\n",
    "\n",
    "##### ubuntu home path : ubuntu home 의 경로\n",
    "##### train images path : 학습 이미지들의 경로\n",
    "##### test images path : 테스트 이미지들의 경로"
   ]
  },
  {
   "cell_type": "code",
   "execution_count": 85,
   "metadata": {},
   "outputs": [],
   "source": [
    "ubuntu_home_path = os.getenv(\"HOME\")   # ./home/aiffel\n",
    "#train_images_path = ubuntu_home_path + \"/aiffel/exp1_rock_scissor_paper/images/rock_scissor_paper_train\"\n",
    "#test_images_path = ubuntu_home_path + \"/aiffel/exp1_rock_scissor_paper/images/rock_scissor_paper_test\"\n",
    "\n",
    "train_images_path = ubuntu_home_path + \"/aiffel/exp1_rock_scissor_paper/images/train_dataset_total_chatenim/data_3200\"\n",
    "test_images_path = ubuntu_home_path + \"/aiffel/exp1_rock_scissor_paper/images/testset/data2\"\n",
    "\n",
    "number_of_data=15000   # 가위바위보 이미지 개수 총합에 주의하세요."
   ]
  },
  {
   "cell_type": "markdown",
   "metadata": {},
   "source": [
    "## 3.학습 및 테스트 데이터셋 준비, 전처리\n",
    "#### 1)이미지 촬영 및 다운로드 (https://teachablemachine.withgoogle.com/), 경로설정\n",
    "#### 2)학습이미지 resize(224x224x3 >> 28x28x3)\n",
    "#### 3)학습이미지  label(0/1/2), 메모리 올리기\n",
    "#### 4)이미지 normalize"
   ]
  },
  {
   "cell_type": "code",
   "execution_count": 86,
   "metadata": {},
   "outputs": [
    {
     "name": "stdout",
     "output_type": "stream",
     "text": [
      "rock scissor paper resize finished\n"
     ]
    }
   ],
   "source": [
    "# 2) 학습이미지 resize\n",
    "\n",
    "# 1 장의 이미지를 resize 하는 함수\n",
    "def resize_image(img):\n",
    "    old_img=Image.open(img)\n",
    "    new_img=old_img.resize(target_size,Image.ANTIALIAS)\n",
    "    new_img.save(img,\"JPEG\")\n",
    "\n",
    "\n",
    "target_size=(28,28)  # 28*28로 resize\n",
    "directories = ['rock', 'scissor', 'paper']  # 3개 폴더 모두 적용\n",
    "\n",
    "# 가위 바위 보 3 폴더에 대해서 resize 진행\n",
    "for dir in directories:   # rock, scissor, paper 3개 폴더에 대해서\n",
    "    images = glob.glob(train_images_path + \"/\" + dir + \"/*.jpg\")  # 폴더 안의 모든 사진을\n",
    "    for img in images:\n",
    "        resize_image(img)   # resize\n",
    "print(\"rock scissor paper resize finished\")"
   ]
  },
  {
   "cell_type": "code",
   "execution_count": 87,
   "metadata": {},
   "outputs": [],
   "source": [
    "# 3) 학습 이미지 label, x_train, y_train 설정\n",
    "\n",
    "def load_data(img_path):\n",
    "    # 가위 : 0, 바위 : 1, 보 : 2\n",
    "    \n",
    "    img_size=28\n",
    "    color=3\n",
    "    #이미지 데이터와 라벨(가위 : 0, 바위 : 1, 보 : 2) 데이터를 담을 행렬(matrix) 영역을 생성합니다.\n",
    "    imgs=np.zeros(number_of_data*img_size*img_size*color,dtype=np.int32).reshape(number_of_data,img_size,img_size,color)\n",
    "    labels=np.zeros(number_of_data,dtype=np.int32)\n",
    "\n",
    "    idx=0\n",
    "    for file in glob.iglob(img_path+'/scissor/*.jpg'):\n",
    "        img = np.array(Image.open(file),dtype=np.int32)\n",
    "        imgs[idx,:,:,:]=img    # 데이터 영역에 이미지 행렬을 복사\n",
    "        labels[idx]=0   # 가위 : 0\n",
    "        idx=idx+1\n",
    "\n",
    "    for file in glob.iglob(img_path+'/rock/*.jpg'):\n",
    "        img = np.array(Image.open(file),dtype=np.int32)\n",
    "        imgs[idx,:,:,:]=img    # 데이터 영역에 이미지 행렬을 복사\n",
    "        labels[idx]=1   # 바위 : 1\n",
    "        idx=idx+1       \n",
    "    \n",
    "    for file in glob.iglob(img_path+'/paper/*.jpg'):\n",
    "        img = np.array(Image.open(file),dtype=np.int32)\n",
    "        imgs[idx,:,:,:]=img    # 데이터 영역에 이미지 행렬을 복사\n",
    "        labels[idx]=2   # 보 : 2\n",
    "        idx=idx+1\n",
    "        \n",
    "    print(\"학습데이터(x_train)의 이미지 개수는\",idx,\"입니다.\")\n",
    "    return imgs, labels"
   ]
  },
  {
   "cell_type": "code",
   "execution_count": 88,
   "metadata": {},
   "outputs": [
    {
     "name": "stdout",
     "output_type": "stream",
     "text": [
      "학습데이터(x_train)의 이미지 개수는 9300 입니다.\n",
      "x_train_norm shape: (15000, 28, 28, 3)\n",
      "y_train shape: (15000,)\n"
     ]
    }
   ],
   "source": [
    "# 4) 이미지 올리기, normalize\n",
    "\n",
    "# x_train, y_train 설정\n",
    "(x_train, y_train)=load_data(train_images_path)\n",
    "# x_train normalize\n",
    "x_train_norm = x_train/255.0   # 입력은 0~1 사이의 값으로 정규화\n",
    "\n",
    "print(\"x_train_norm shape: {}\".format(x_train_norm.shape))\n",
    "print(\"y_train shape: {}\".format(y_train.shape))"
   ]
  },
  {
   "cell_type": "code",
   "execution_count": 89,
   "metadata": {},
   "outputs": [
    {
     "name": "stdout",
     "output_type": "stream",
     "text": [
      "라벨:  0\n",
      "[[  3   0   0]\n",
      " [ 77  76  74]\n",
      " [170 175 171]\n",
      " [148 159 153]\n",
      " [151 166 159]\n",
      " [139 156 148]\n",
      " [149 164 157]\n",
      " [129 140 132]\n",
      " [136 139 130]\n",
      " [142 140 128]\n",
      " [134 126 113]\n",
      " [110 101  84]\n",
      " [ 99  91  70]\n",
      " [118 112  86]\n",
      " [148 145 114]\n",
      " [168 165 134]\n",
      " [128 116 100]\n",
      " [110 101  86]\n",
      " [107  99  86]\n",
      " [142 138 127]\n",
      " [181 180 175]\n",
      " [185 187 184]\n",
      " [176 180 179]\n",
      " [182 187 190]\n",
      " [179 184 187]\n",
      " [116 120 121]\n",
      " [113 115 114]\n",
      " [ 89  88  86]]\n"
     ]
    },
    {
     "data": {
      "image/png": "[encoded data removed]",
      "text/plain": [
       "<Figure size 432x288 with 1 Axes>"
      ]
     },
     "metadata": {
      "needs_background": "light"
     },
     "output_type": "display_data"
    }
   ],
   "source": [
    "# image test\n",
    "\n",
    "n = 210\n",
    "\n",
    "plt.imshow(x_train[n])\n",
    "print('라벨: ', y_train[n])\n",
    "print(x_train[n][14])"
   ]
  },
  {
   "cell_type": "code",
   "execution_count": 90,
   "metadata": {
    "scrolled": true
   },
   "outputs": [
    {
     "name": "stdout",
     "output_type": "stream",
     "text": [
      "라벨:  0\n",
      "[[0.44313725 0.43921569 0.43137255]\n",
      " [0.45098039 0.44705882 0.43137255]\n",
      " [0.46666667 0.45098039 0.43921569]\n",
      " [0.47058824 0.45490196 0.44313725]\n",
      " [0.4745098  0.45490196 0.44313725]\n",
      " [0.49019608 0.45882353 0.45098039]\n",
      " [0.50588235 0.46666667 0.45882353]\n",
      " [0.52156863 0.47843137 0.47058824]\n",
      " [0.54117647 0.48627451 0.48235294]\n",
      " [0.34509804 0.2745098  0.2745098 ]\n",
      " [0.27843137 0.2        0.19607843]\n",
      " [0.28627451 0.20392157 0.2       ]\n",
      " [0.32156863 0.23921569 0.23529412]\n",
      " [0.38823529 0.29411765 0.29411765]\n",
      " [0.50588235 0.41176471 0.40392157]\n",
      " [0.65882353 0.55686275 0.55294118]\n",
      " [0.55686275 0.54901961 0.55294118]\n",
      " [0.55686275 0.54901961 0.55294118]\n",
      " [0.55686275 0.54901961 0.55294118]\n",
      " [0.56078431 0.55294118 0.56470588]\n",
      " [0.56078431 0.56078431 0.56862745]\n",
      " [0.56078431 0.56078431 0.56862745]\n",
      " [0.56470588 0.56470588 0.57254902]\n",
      " [0.56078431 0.56470588 0.58039216]\n",
      " [0.57254902 0.57647059 0.59215686]\n",
      " [0.56862745 0.57254902 0.58823529]\n",
      " [0.56078431 0.56470588 0.58431373]\n",
      " [0.54509804 0.55686275 0.57647059]]\n"
     ]
    },
    {
     "data": {
      "image/png": "[encoded data removed]",
      "text/plain": [
       "<Figure size 432x288 with 1 Axes>"
      ]
     },
     "metadata": {
      "needs_background": "light"
     },
     "output_type": "display_data"
    }
   ],
   "source": [
    "# norm image test\n",
    "\n",
    "n = 100\n",
    "\n",
    "plt.imshow(x_train_norm[n])\n",
    "print('라벨: ', y_train[n])\n",
    "print(x_train_norm[n][14])"
   ]
  },
  {
   "cell_type": "markdown",
   "metadata": {},
   "source": [
    "## 4. 딥러닝 네트워크 설계\n",
    "#### MNIST 와 동일하나, hyperparameter 수정"
   ]
  },
  {
   "cell_type": "code",
   "execution_count": 91,
   "metadata": {},
   "outputs": [
    {
     "name": "stdout",
     "output_type": "stream",
     "text": [
      "Model: \"sequential_7\"\n",
      "_________________________________________________________________\n",
      "Layer (type)                 Output Shape              Param #   \n",
      "=================================================================\n",
      "conv2d_14 (Conv2D)           (None, 26, 26, 16)        448       \n",
      "_________________________________________________________________\n",
      "max_pooling2d_14 (MaxPooling (None, 13, 13, 16)        0         \n",
      "_________________________________________________________________\n",
      "conv2d_15 (Conv2D)           (None, 9, 9, 32)          12832     \n",
      "_________________________________________________________________\n",
      "max_pooling2d_15 (MaxPooling (None, 4, 4, 32)          0         \n",
      "_________________________________________________________________\n",
      "flatten_7 (Flatten)          (None, 512)               0         \n",
      "_________________________________________________________________\n",
      "dense_14 (Dense)             (None, 32)                16416     \n",
      "_________________________________________________________________\n",
      "dense_15 (Dense)             (None, 3)                 99        \n",
      "=================================================================\n",
      "Total params: 29,795\n",
      "Trainable params: 29,795\n",
      "Non-trainable params: 0\n",
      "_________________________________________________________________\n"
     ]
    }
   ],
   "source": [
    "n_channel_1 = 16\n",
    "n_channel_2 = 32    # \n",
    "n_dense = 32   # \n",
    "n_train_epoch = 10\n",
    "input_image_shape = (28,28,3)  # rgb 3 channel\n",
    "classes_number = 3  # rock scissor paper\n",
    "\n",
    "model = keras.models.Sequential()\n",
    "model.add(keras.layers.Conv2D(n_channel_1, (3,3), activation='relu', input_shape=input_image_shape))\n",
    "model.add(keras.layers.MaxPool2D((2,2)))\n",
    "model.add(keras.layers.Conv2D(n_channel_2, (5,5), activation='relu'))\n",
    "model.add(keras.layers.MaxPooling2D((2,2)))\n",
    "model.add(keras.layers.Flatten())\n",
    "model.add(keras.layers.Dense(n_dense, activation='relu'))\n",
    "model.add(keras.layers.Dense(classes_number, activation='softmax'))\n",
    "\n",
    "model.summary()"
   ]
  },
  {
   "cell_type": "markdown",
   "metadata": {},
   "source": [
    "## 5.Train"
   ]
  },
  {
   "cell_type": "code",
   "execution_count": 92,
   "metadata": {},
   "outputs": [
    {
     "name": "stdout",
     "output_type": "stream",
     "text": [
      "Epoch 1/10\n",
      "469/469 [==============================] - 1s 1ms/step - loss: 0.6344 - accuracy: 0.6853\n",
      "Epoch 2/10\n",
      "469/469 [==============================] - 1s 1ms/step - loss: 0.3471 - accuracy: 0.8625\n",
      "Epoch 3/10\n",
      "469/469 [==============================] - 1s 1ms/step - loss: 0.1982 - accuracy: 0.9295\n",
      "Epoch 4/10\n",
      "469/469 [==============================] - 1s 1ms/step - loss: 0.1212 - accuracy: 0.9603\n",
      "Epoch 5/10\n",
      "469/469 [==============================] - 1s 1ms/step - loss: 0.0834 - accuracy: 0.9738\n",
      "Epoch 6/10\n",
      "469/469 [==============================] - 1s 1ms/step - loss: 0.0551 - accuracy: 0.9838\n",
      "Epoch 7/10\n",
      "469/469 [==============================] - 1s 1ms/step - loss: 0.0473 - accuracy: 0.9860\n",
      "Epoch 8/10\n",
      "469/469 [==============================] - 1s 1ms/step - loss: 0.0304 - accuracy: 0.9920\n",
      "Epoch 9/10\n",
      "469/469 [==============================] - 1s 1ms/step - loss: 0.0294 - accuracy: 0.9913\n",
      "Epoch 10/10\n",
      "469/469 [==============================] - 1s 1ms/step - loss: 0.0296 - accuracy: 0.9921\n"
     ]
    },
    {
     "data": {
      "text/plain": [
       "<tensorflow.python.keras.callbacks.History at 0x7fce7bfba7d0>"
      ]
     },
     "execution_count": 92,
     "metadata": {},
     "output_type": "execute_result"
    }
   ],
   "source": [
    "model.compile(optimizer='adam', loss='sparse_categorical_crossentropy', metrics=['accuracy'])\n",
    "model.fit(x_train_norm, y_train, epochs=n_train_epoch)"
   ]
  },
  {
   "cell_type": "markdown",
   "metadata": {},
   "source": [
    "## 6.Test"
   ]
  },
  {
   "cell_type": "code",
   "execution_count": 93,
   "metadata": {},
   "outputs": [
    {
     "name": "stdout",
     "output_type": "stream",
     "text": [
      "test 이미지 디렉토리 경로:  /home/aiffel/aiffel/exp1_rock_scissor_paper/images/testset/data2\n",
      "학습데이터(x_train)의 이미지 개수는 300 입니다.\n",
      "x_test shape: (15000, 28, 28, 3)\n",
      "x_test_norm shape: (15000, 28, 28, 3)\n",
      "y_test shape: (15000,)\n"
     ]
    }
   ],
   "source": [
    "# test image dataset 세팅\n",
    "\n",
    "print(\"test 이미지 디렉토리 경로: \", test_images_path)\n",
    "(x_test, y_test)=load_data(test_images_path)\n",
    "x_test_norm = x_test/255.0   # 입력은 0~1 사이의 값으로 정규화\n",
    "\n",
    "print(\"x_test shape: {}\".format(x_test.shape))\n",
    "print(\"x_test_norm shape: {}\".format(x_test_norm.shape))\n",
    "print(\"y_test shape: {}\".format(y_test.shape))"
   ]
  },
  {
   "cell_type": "code",
   "execution_count": 94,
   "metadata": {},
   "outputs": [
    {
     "name": "stdout",
     "output_type": "stream",
     "text": [
      "469/469 - 0s - loss: 0.1240 - accuracy: 0.9860\n",
      "test_loss: 0.12398358434438705 \n",
      "test_accuracy: 0.9860000014305115\n"
     ]
    }
   ],
   "source": [
    "# Test 진행\n",
    "\n",
    "test_loss, test_accuracy = model.evaluate(x_test_norm, y_test, verbose=2)\n",
    "print(\"test_loss: {} \".format(test_loss))\n",
    "print(\"test_accuracy: {}\".format(test_accuracy))"
   ]
  },
  {
   "cell_type": "markdown",
   "metadata": {},
   "source": [
    "## 논의\n",
    "\n",
    "#### 1.과연 가위바위보를 분류하는데 딥러닝을 적용하는게 맞는 것일까?\n",
    "손을 인식하기 위한 딥러닝 분류를 적용하는 것은 맞다고 맞다.\n",
    "그런데 어찌보면 가위바위보는 손가락 숫자를 counting 하는 것이다\n",
    "어떤 사람은 가위를 엄지/검지로 하고 어떤 사람은 검지/중지로 한다.\n",
    "손을 인식하고, 해당 box 안에 손가락을 counting 하는 것은 다른 기존의 영상처리법으로 하는게 낫지 않을까??\n",
    "\n",
    "\n",
    "#### 2.손 사진을 28 * 28 * 3 으로 resize/reshape 하는 것이 적절할까?\n",
    "resize 사진을 보면 사람도 구분하기 애매한 것들이 많다.\n",
    "오리지날 image가 224 * 224 * 3 이니까 정도면 직접 학습하면 어떨까? 학습시간은 오래걸리겠지만 성능은 낫지 않을까\n",
    "\n",
    "\n",
    "#### 3.이미지 레이블 박스 처리를 해줬어야하지 않나?\n",
    "손 사진을 학습시킬때, 사실 28*28 모든 픽셀을 학습에 사용하였지만, 실제 손 사진은 \n",
    "즉, 이미지 레이블 박스를 치지 않았다.\n",
    "이 과정에서 훈련 데이터 셋이 전처리가 깔끔하게 되었다고 보기 힘들다.\n",
    "\n",
    "#### 4.normalize 할때 255 로 나누기만 하면 될까?\n",
    "이미지 내 최대 밝기/최소밝기가 있다면, max>>1, min>>0 사이의 값으로 normalize하는게 맞지 않을까"
   ]
  }
 ],
 "metadata": {
  "kernelspec": {
   "display_name": "Python 3",
   "language": "python",
   "name": "python3"
  },
  "language_info": {
   "codemirror_mode": {
    "name": "ipython",
    "version": 3
   },
   "file_extension": ".py",
   "mimetype": "text/x-python",
   "name": "python",
   "nbconvert_exporter": "python",
   "pygments_lexer": "ipython3",
   "version": "3.7.9"
  }
 },
 "nbformat": 4,
 "nbformat_minor": 4
}
