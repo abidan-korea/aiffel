{
 "cells": [
  {
   "cell_type": "markdown",
   "metadata": {},
   "source": [
    "# 가위바위보 이미지를 딥러닝 학습시키기\n",
    "\n",
    "\n",
    "## *목차\n",
    "\n",
    "\n",
    "#### 1.각 패키지 불러오기\n",
    "#### 2.모든 경로 설정하기\n",
    "#### 3.학습 및 테스트 데이터셋 준비, 전처리\n",
    "#### 4.딥러닝 네트워크 설계하기\n",
    "#### 5.훈련\n",
    "#### 6.추론\n",
    "#### 7.실험결과\n",
    "#### 8.결론\n",
    "#### 9.논의사항"
   ]
  },
  {
   "cell_type": "markdown",
   "metadata": {},
   "source": [
    "## 1. 각 패키지 설치 및 불러오기"
   ]
  },
  {
   "cell_type": "code",
   "execution_count": 4,
   "metadata": {},
   "outputs": [
    {
     "name": "stdout",
     "output_type": "stream",
     "text": [
      "Requirement already satisfied: pillow in /home/aiffel/anaconda3/envs/aiffel/lib/python3.7/site-packages (8.0.1)\r\n"
     ]
    }
   ],
   "source": [
    "!pip install pillow  \n",
    "from PIL import Image\n",
    "import glob, os\n",
    "import matplotlib.pyplot as plt\n",
    "import numpy as np\n",
    "import tensorflow as tf\n",
    "from tensorflow import keras"
   ]
  },
  {
   "cell_type": "markdown",
   "metadata": {},
   "source": [
    "## 2. 모든 경로 설정하기\n",
    "\n",
    "##### ubuntu home path : ubuntu home 의 경로\n",
    "##### train images path : 학습 이미지들의 경로\n",
    "##### test images path : 테스트 이미지들의 경로"
   ]
  },
  {
   "cell_type": "code",
   "execution_count": 4,
   "metadata": {},
   "outputs": [],
   "source": [
    "ubuntu_home_path = os.getenv(\"HOME\")   # ./home/aiffel\n",
    "train_images_path = ubuntu_home_path + \"/aiffel/exp1_rock_scissor_paper/images/rock_scissor_paper_train\"\n",
    "test_images_path = ubuntu_home_path + \"/aiffel/exp1_rock_scissor_paper/images/rock_scissor_paper_test\""
   ]
  },
  {
   "cell_type": "markdown",
   "metadata": {},
   "source": [
    "## 3.학습 및 테스트 데이터셋 준비, 전처리\n",
    "#### 1)이미지 촬영 및 다운로드 (https://teachablemachine.withgoogle.com/), 경로설정\n",
    "#### 2)학습이미지 resize(224x224x3 >> 28x28x3)\n",
    "#### 3)학습이미지  label(0/1/2), 메모리 올리기\n",
    "#### 4)이미지 normalize"
   ]
  },
  {
   "cell_type": "code",
   "execution_count": 6,
   "metadata": {},
   "outputs": [
    {
     "name": "stdout",
     "output_type": "stream",
     "text": [
      "resize finished\n"
     ]
    }
   ],
   "source": [
    "# 2) 학습이미지 resize\n",
    "\n",
    "# 1 장의 이미지를 resize 하는 함수\n",
    "def resize_image(img):\n",
    "    old_img=Image.open(img)\n",
    "    new_img=old_img.resize(target_size,Image.ANTIALIAS)\n",
    "    new_img.save(img,\"JPEG\")\n",
    "\n",
    "\n",
    "target_size=(28,28)  # 28*28로 resize\n",
    "directories = ['rock', 'scissor', 'paper']  # 3개 폴더 모두 적용\n",
    "\n",
    "# 가위 바위 보 3 폴더에 대해서 resize 진행\n",
    "for dir in directories:   # rock, scissor, paper 3개 폴더에 대해서\n",
    "    images = glob.glob(train_images_path + \"/\" + dir + \"/*.jpg\")  # 폴더 안의 모든 사진을\n",
    "    for img in images:\n",
    "        resize_image(img)   # resize\n",
    "print(\"rock scissor paper resize finished\")"
   ]
  },
  {
   "cell_type": "code",
   "execution_count": 7,
   "metadata": {},
   "outputs": [],
   "source": [
    "# 3) 학습 이미지 label, x_train, y_train 설정\n",
    "\n",
    "def load_data(img_path):\n",
    "    # 가위 : 0, 바위 : 1, 보 : 2\n",
    "    number_of_data=300   # 가위바위보 이미지 개수 총합에 주의하세요.\n",
    "    img_size=28\n",
    "    color=3\n",
    "    #이미지 데이터와 라벨(가위 : 0, 바위 : 1, 보 : 2) 데이터를 담을 행렬(matrix) 영역을 생성합니다.\n",
    "    imgs=np.zeros(number_of_data*img_size*img_size*color,dtype=np.int32).reshape(number_of_data,img_size,img_size,color)\n",
    "    labels=np.zeros(number_of_data,dtype=np.int32)\n",
    "\n",
    "    idx=0\n",
    "    for file in glob.iglob(img_path+'/scissor/*.jpg'):\n",
    "        img = np.array(Image.open(file),dtype=np.int32)\n",
    "        imgs[idx,:,:,:]=img    # 데이터 영역에 이미지 행렬을 복사\n",
    "        labels[idx]=0   # 가위 : 0\n",
    "        idx=idx+1\n",
    "\n",
    "    for file in glob.iglob(img_path+'/rock/*.jpg'):\n",
    "        img = np.array(Image.open(file),dtype=np.int32)\n",
    "        imgs[idx,:,:,:]=img    # 데이터 영역에 이미지 행렬을 복사\n",
    "        labels[idx]=1   # 바위 : 1\n",
    "        idx=idx+1       \n",
    "    \n",
    "    for file in glob.iglob(img_path+'/paper/*.jpg'):\n",
    "        img = np.array(Image.open(file),dtype=np.int32)\n",
    "        imgs[idx,:,:,:]=img    # 데이터 영역에 이미지 행렬을 복사\n",
    "        labels[idx]=2   # 보 : 2\n",
    "        idx=idx+1\n",
    "        \n",
    "    print(\"학습데이터(x_train)의 이미지 개수는\",idx,\"입니다.\")\n",
    "    return imgs, labels"
   ]
  },
  {
   "cell_type": "code",
   "execution_count": 9,
   "metadata": {},
   "outputs": [
    {
     "name": "stdout",
     "output_type": "stream",
     "text": [
      "학습데이터(x_train)의 이미지 개수는 300 입니다.\n",
      "x_train_norm shape: (300, 28, 28, 3)\n",
      "y_train shape: (300,)\n"
     ]
    }
   ],
   "source": [
    "# 4) 이미지 올리기, normalize\n",
    "\n",
    "# x_train, y_train 설정\n",
    "(x_train, y_train)=load_data(train_images_path)\n",
    "# x_train normalize\n",
    "x_train_norm = x_train/255.0   # 입력은 0~1 사이의 값으로 정규화\n",
    "\n",
    "print(\"x_train_norm shape: {}\".format(x_train_norm.shape))\n",
    "print(\"y_train shape: {}\".format(y_train.shape))"
   ]
  },
  {
   "cell_type": "code",
   "execution_count": 10,
   "metadata": {},
   "outputs": [
    {
     "name": "stdout",
     "output_type": "stream",
     "text": [
      "라벨:  2\n",
      "[[107 106 111]\n",
      " [109 107 110]\n",
      " [110 108 111]\n",
      " [114 108 110]\n",
      " [119 110 113]\n",
      " [124 112 114]\n",
      " [130 114 115]\n",
      " [135 114 113]\n",
      " [106  80  79]\n",
      " [ 86  56  54]\n",
      " [100  66  64]\n",
      " [ 84  46  43]\n",
      " [ 99  58  54]\n",
      " [100  56  53]\n",
      " [ 94  49  44]\n",
      " [ 94  49  44]\n",
      " [ 90  55  61]\n",
      " [134 102 107]\n",
      " [160 131 135]\n",
      " [148 126 128]\n",
      " [155 139 139]\n",
      " [123 113 111]\n",
      " [126 122 119]\n",
      " [140 141 136]\n",
      " [138 143 137]\n",
      " [137 142 138]\n",
      " [135 140 136]\n",
      " [133 138 134]]\n"
     ]
    },
    {
     "data": {
      "image/png": "[encoded data removed]",
      "text/plain": [
       "<Figure size 432x288 with 1 Axes>"
      ]
     },
     "metadata": {
      "needs_background": "light"
     },
     "output_type": "display_data"
    }
   ],
   "source": [
    "# image test\n",
    "\n",
    "n = 210\n",
    "\n",
    "plt.imshow(x_train[n])\n",
    "print('라벨: ', y_train[n])\n",
    "print(x_train[n][14])"
   ]
  },
  {
   "cell_type": "code",
   "execution_count": 3,
   "metadata": {},
   "outputs": [
    {
     "ename": "NameError",
     "evalue": "name 'x_train_norm' is not defined",
     "output_type": "error",
     "traceback": [
      "\u001b[0;31m---------------------------------------------------------------------------\u001b[0m",
      "\u001b[0;31mNameError\u001b[0m                                 Traceback (most recent call last)",
      "\u001b[0;32m<ipython-input-3-d98e54d3e69d>\u001b[0m in \u001b[0;36m<module>\u001b[0;34m\u001b[0m\n\u001b[1;32m      3\u001b[0m \u001b[0mn\u001b[0m \u001b[0;34m=\u001b[0m \u001b[0;36m100\u001b[0m\u001b[0;34m\u001b[0m\u001b[0;34m\u001b[0m\u001b[0m\n\u001b[1;32m      4\u001b[0m \u001b[0;34m\u001b[0m\u001b[0m\n\u001b[0;32m----> 5\u001b[0;31m \u001b[0mplt\u001b[0m\u001b[0;34m.\u001b[0m\u001b[0mimshow\u001b[0m\u001b[0;34m(\u001b[0m\u001b[0mx_train_norm\u001b[0m\u001b[0;34m[\u001b[0m\u001b[0mn\u001b[0m\u001b[0;34m]\u001b[0m\u001b[0;34m)\u001b[0m\u001b[0;34m\u001b[0m\u001b[0;34m\u001b[0m\u001b[0m\n\u001b[0m\u001b[1;32m      6\u001b[0m \u001b[0mprint\u001b[0m\u001b[0;34m(\u001b[0m\u001b[0;34m'라벨: '\u001b[0m\u001b[0;34m,\u001b[0m \u001b[0my_train\u001b[0m\u001b[0;34m[\u001b[0m\u001b[0mn\u001b[0m\u001b[0;34m]\u001b[0m\u001b[0;34m)\u001b[0m\u001b[0;34m\u001b[0m\u001b[0;34m\u001b[0m\u001b[0m\n\u001b[1;32m      7\u001b[0m \u001b[0mprint\u001b[0m\u001b[0;34m(\u001b[0m\u001b[0mx_train_norm\u001b[0m\u001b[0;34m[\u001b[0m\u001b[0mn\u001b[0m\u001b[0;34m]\u001b[0m\u001b[0;34m[\u001b[0m\u001b[0;36m14\u001b[0m\u001b[0;34m]\u001b[0m\u001b[0;34m)\u001b[0m\u001b[0;34m\u001b[0m\u001b[0;34m\u001b[0m\u001b[0m\n",
      "\u001b[0;31mNameError\u001b[0m: name 'x_train_norm' is not defined"
     ]
    }
   ],
   "source": [
    "# norm image test\n",
    "\n",
    "n = 100\n",
    "\n",
    "plt.imshow(x_train_norm[n])\n",
    "print('라벨: ', y_train[n])\n",
    "print(x_train_norm[n][14])"
   ]
  },
  {
   "cell_type": "markdown",
   "metadata": {},
   "source": [
    "## 4. 딥러닝 네트워크 설계\n",
    "#### MNIST 와 동일하나, hyperparameter 수정"
   ]
  },
  {
   "cell_type": "code",
   "execution_count": 14,
   "metadata": {
    "collapsed": true
   },
   "outputs": [
    {
     "name": "stdout",
     "output_type": "stream",
     "text": [
      "Model: \"sequential_1\"\n",
      "_________________________________________________________________\n",
      "Layer (type)                 Output Shape              Param #   \n",
      "=================================================================\n",
      "conv2d_2 (Conv2D)            (None, 26, 26, 16)        448       \n",
      "_________________________________________________________________\n",
      "max_pooling2d_2 (MaxPooling2 (None, 13, 13, 16)        0         \n",
      "_________________________________________________________________\n",
      "conv2d_3 (Conv2D)            (None, 9, 9, 32)          12832     \n",
      "_________________________________________________________________\n",
      "max_pooling2d_3 (MaxPooling2 (None, 4, 4, 32)          0         \n",
      "_________________________________________________________________\n",
      "flatten_1 (Flatten)          (None, 512)               0         \n",
      "_________________________________________________________________\n",
      "dense_2 (Dense)              (None, 32)                16416     \n",
      "_________________________________________________________________\n",
      "dense_3 (Dense)              (None, 3)                 99        \n",
      "=================================================================\n",
      "Total params: 29,795\n",
      "Trainable params: 29,795\n",
      "Non-trainable params: 0\n",
      "_________________________________________________________________\n"
     ]
    }
   ],
   "source": [
    "n_channel_1 = 16\n",
    "n_channel_2 = 32    # \n",
    "n_dense = 32   # \n",
    "n_train_epoch = 10\n",
    "input_image_shape = (28,28,3)  # rgb 3 channel\n",
    "classes_number = 3  # rock scissor paper\n",
    "\n",
    "model = keras.models.Sequential()\n",
    "model.add(keras.layers.Conv2D(n_channel_1, (3,3), activation='relu', input_shape=input_image_shape))\n",
    "model.add(keras.layers.MaxPool2D((2,2)))\n",
    "model.add(keras.layers.Conv2D(n_channel_2, (5,5), activation='relu'))\n",
    "model.add(keras.layers.MaxPooling2D((2,2)))\n",
    "model.add(keras.layers.Flatten())\n",
    "model.add(keras.layers.Dense(n_dense, activation='relu'))\n",
    "model.add(keras.layers.Dense(classes_number, activation='softmax'))\n",
    "\n",
    "model.summary()"
   ]
  },
  {
   "cell_type": "markdown",
   "metadata": {},
   "source": [
    "## 5.Train"
   ]
  },
  {
   "cell_type": "code",
   "execution_count": 15,
   "metadata": {
    "collapsed": true
   },
   "outputs": [
    {
     "name": "stdout",
     "output_type": "stream",
     "text": [
      "Epoch 1/10\n",
      "10/10 [==============================] - 0s 2ms/step - loss: 1.0760 - accuracy: 0.4500\n",
      "Epoch 2/10\n",
      "10/10 [==============================] - 0s 2ms/step - loss: 0.9961 - accuracy: 0.8000\n",
      "Epoch 3/10\n",
      "10/10 [==============================] - 0s 2ms/step - loss: 0.8773 - accuracy: 0.7100\n",
      "Epoch 4/10\n",
      "10/10 [==============================] - 0s 2ms/step - loss: 0.7105 - accuracy: 0.7967\n",
      "Epoch 5/10\n",
      "10/10 [==============================] - 0s 2ms/step - loss: 0.5560 - accuracy: 0.8533\n",
      "Epoch 6/10\n",
      "10/10 [==============================] - 0s 2ms/step - loss: 0.4651 - accuracy: 0.8733\n",
      "Epoch 7/10\n",
      "10/10 [==============================] - 0s 2ms/step - loss: 0.4054 - accuracy: 0.8733\n",
      "Epoch 8/10\n",
      "10/10 [==============================] - 0s 2ms/step - loss: 0.4056 - accuracy: 0.8867\n",
      "Epoch 9/10\n",
      "10/10 [==============================] - 0s 2ms/step - loss: 0.3877 - accuracy: 0.8500\n",
      "Epoch 10/10\n",
      "10/10 [==============================] - 0s 2ms/step - loss: 0.3161 - accuracy: 0.8800\n"
     ]
    },
    {
     "data": {
      "text/plain": [
       "<tensorflow.python.keras.callbacks.History at 0x7fe11032b5d0>"
      ]
     },
     "execution_count": 15,
     "metadata": {},
     "output_type": "execute_result"
    }
   ],
   "source": [
    "model.compile(optimizer='adam', loss='sparse_categorical_crossentropy', metrics=['accuracy'])\n",
    "model.fit(x_train_norm, y_train, epochs=n_train_epoch)"
   ]
  },
  {
   "cell_type": "markdown",
   "metadata": {},
   "source": [
    "## 6.Test"
   ]
  },
  {
   "cell_type": "code",
   "execution_count": 18,
   "metadata": {
    "collapsed": true
   },
   "outputs": [
    {
     "name": "stdout",
     "output_type": "stream",
     "text": [
      "test 이미지 디렉토리 경로:  /home/aiffel/aiffel/exp1_rock_scissor_paper/images/rock_scissor_paper_test\n",
      "학습데이터(x_train)의 이미지 개수는 300 입니다.\n",
      "x_test shape: (300, 28, 28, 3)\n",
      "x_test_norm shape: (300, 28, 28, 3)\n",
      "y_test shape: (300,)\n"
     ]
    }
   ],
   "source": [
    "# test image dataset 세팅\n",
    "\n",
    "print(\"test 이미지 디렉토리 경로: \", test_images_path)\n",
    "(x_test, y_test)=load_data(test_images_path)\n",
    "x_test_norm = x_test/255.0   # 입력은 0~1 사이의 값으로 정규화\n",
    "\n",
    "print(\"x_test shape: {}\".format(x_test.shape))\n",
    "print(\"x_test_norm shape: {}\".format(x_test_norm.shape))\n",
    "print(\"y_test shape: {}\".format(y_test.shape))"
   ]
  },
  {
   "cell_type": "code",
   "execution_count": 19,
   "metadata": {},
   "outputs": [
    {
     "name": "stdout",
     "output_type": "stream",
     "text": [
      "10/10 - 0s - loss: 2.0939 - accuracy: 0.3667\n",
      "test_loss: 2.0939366817474365 \n",
      "test_accuracy: 0.36666667461395264\n"
     ]
    }
   ],
   "source": [
    "# Test 진행\n",
    "\n",
    "test_loss, test_accuracy = model.evaluate(x_test_norm, y_test, verbose=2)\n",
    "print(\"test_loss: {} \".format(test_loss))\n",
    "print(\"test_accuracy: {}\".format(test_accuracy))"
   ]
  },
  {
   "cell_type": "markdown",
   "metadata": {},
   "source": [
    "## 7.결과\n",
    "\n",
    "\n",
    "#### 1) 학습 데이터셋의 양 (2000 vs 100)\n",
    "1-1)\n",
    "1-2)\n",
    "\n",
    "#### 2) 학습 이미지 해상도(224 vs 28)\n",
    "2-1)\n",
    "2-2)\n",
    "\n",
    "#### 3) normalize vs non-normalize\n",
    "3-1)\n",
    "3-2)\n",
    "\n",
    "\n",
    "// 2000 vs 100\n",
    "\n",
    "// 224 vs 28 \n",
    "\n",
    "// normalize 한 경우\n",
    "1.내 사진(각100)으로 학습, 보배님 사진(각100)으로 test\n",
    " : accuracy 0.367\n",
    "2.다운로드 사진(각2000)으로 학습, 내 사진(각100)으로 test\n",
    " : accuracy \n",
    " \n",
    " \n",
    "// normalize 하지 않았을 경우"
   ]
  },
  {
   "cell_type": "markdown",
   "metadata": {},
   "source": [
    "## 8.결론\n",
    "\n",
    "##### 1.학습 데이터셋의 양이 증가함에 따라, 학습 성능이 증가한다.\n",
    "##### 2.학습 데이터셋의 해상도가 증가함에 따라, 학습 성능이 증가한다.\n",
    "##### 3.학습 시, 다양한 데이터 셋을 normalize 하여 학습함에 따라, 학습 성능이 증가한다."
   ]
  },
  {
   "cell_type": "markdown",
   "metadata": {},
   "source": [
    "## 9.논의\n",
    "\n",
    "#### 1.과연 가위바위보를 분류하는데 딥러닝을 적용하는게 맞는 것일까?\n",
    "손을 인식하기 위한 딥러닝 분류를 적용하는 것은 맞다고 맞다.\n",
    "그런데 어찌보면 가위바위보는 손가락 숫자를 counting 하는 것이다\n",
    "어떤 사람은 가위를 엄지/검지로 하고 어떤 사람은 검지/중지로 한다.\n",
    "손을 인식하고, 해당 box 안에 손가락을 counting 하는 것은 다른 기존의 영상처리법으로 하는게 낫지 않을까??\n",
    "\n",
    "\n",
    "#### 2.손 사진을 28 * 28 * 3 으로 resize/reshape 하는 것이 적절할까?\n",
    "resize 사진을 보면 사람도 구분하기 애매한 것들이 많다.\n",
    "오리지날 image가 224 * 224 * 3 이니까 정도면 직접 학습하면 어떨까? 학습시간은 오래걸리겠지만 성능은 낫지 않을까\n",
    "\n",
    "\n",
    "#### 3.이미지 레이블 박스 처리를 해줬어야하지 않나?\n",
    "손 사진을 학습시킬때, 사실 28*28 모든 픽셀을 학습에 사용하였지만, 실제 손 사진은 \n",
    "즉, 이미지 레이블 박스를 치지 않았다.\n",
    "이 과정에서 훈련 데이터 셋이 전처리가 깔끔하게 되었다고 보기 힘들다.\n",
    "\n",
    "#### 4.normalize 할때 255 로 나누기만 하면 될까?\n",
    "이미지 내 최대 밝기/최소밝기가 있다면, max>>1, min>>0 사이의 값으로 normalize하는게 맞지 않을까"
   ]
  }
 ],
 "metadata": {
  "kernelspec": {
   "display_name": "Python 3",
   "language": "python",
   "name": "python3"
  },
  "language_info": {
   "codemirror_mode": {
    "name": "ipython",
    "version": 3
   },
   "file_extension": ".py",
   "mimetype": "text/x-python",
   "name": "python",
   "nbconvert_exporter": "python",
   "pygments_lexer": "ipython3",
   "version": "3.7.9"
  }
 },
 "nbformat": 4,
 "nbformat_minor": 4
}
